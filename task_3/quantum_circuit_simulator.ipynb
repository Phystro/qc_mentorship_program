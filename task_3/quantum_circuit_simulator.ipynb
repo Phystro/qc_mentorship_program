{
 "cells": [
  {
   "cell_type": "markdown",
   "metadata": {},
   "source": [
    "# Quantum Circuit Simulator\n",
    "\n",
    "Implementing a simple quantum circuit simulator.\n",
    "\n",
    "\n",
    "Implemented functionalities of the circuit simulator:\n",
    " * initialize a state\n",
    " * read a program/circuit, and for each gate:\n",
    "  * calculate the matrix operator\n",
    "  * apply the operator (modify state)\n",
    " * perform multi-shot measurements of all qubits using the weighted random technique\n",
    " * can run variational quantum algorithms"
   ]
  },
  {
   "cell_type": "code",
   "execution_count": 38,
   "metadata": {},
   "outputs": [],
   "source": [
    "import numpy as np\n",
    "from numpy.random import choice"
   ]
  },
  {
   "cell_type": "markdown",
   "metadata": {},
   "source": [
    "### Quantum Gates"
   ]
  },
  {
   "cell_type": "markdown",
   "metadata": {},
   "source": [
    "#### Single qubit gates"
   ]
  },
  {
   "cell_type": "code",
   "execution_count": 27,
   "metadata": {},
   "outputs": [],
   "source": [
    "# inverse of the square root of 2\n",
    "isqrt2 = 1/np.sqrt(2)\n",
    "\n",
    "x = np.array([\n",
    "    [0, 1],\n",
    "    [1, 0]\n",
    "])\n",
    "\n",
    "z = np.array([\n",
    "    [1, 0],\n",
    "    [0, -1]\n",
    "])\n",
    "\n",
    "h = np.array([\n",
    "    [isqrt2, isqrt2],\n",
    "    [isqrt2, -isqrt2],\n",
    "])"
   ]
  },
  {
   "cell_type": "markdown",
   "metadata": {},
   "source": [
    "#### Two-qubit gates"
   ]
  },
  {
   "cell_type": "code",
   "execution_count": 26,
   "metadata": {},
   "outputs": [],
   "source": [
    "cx = np.array([\n",
    "    [1, 0, 0, 0],\n",
    "    [0, 1, 0, 0],\n",
    "    [0, 0, 0, 1],\n",
    "    [0, 0, 1, 0],\n",
    "])\n",
    "\n",
    "sw = np.array([\n",
    "    [1, 0, 0, 0],\n",
    "    [0, 0, 1, 0],\n",
    "    [0, 1, 0, 0],\n",
    "    [0, 0, 0, 1],\n",
    "])"
   ]
  },
  {
   "cell_type": "markdown",
   "metadata": {},
   "source": [
    "#### Parametric gates"
   ]
  },
  {
   "cell_type": "markdown",
   "metadata": {},
   "source": [
    "$ U_3(\\theta, \\phi, \\lambda) = \\begin{pmatrix}\n",
    "    \\cos\\frac{\\theta}{2} & -e^{i\\lambda}\\sin\\frac{\\theta}{2}  \\\\\n",
    "    e^{i\\phi}\\sin\\frac{\\theta}{2} & e^{i\\phi + i\\lambda}\\cos\\frac{\\theta}{2} \n",
    "  \\end{pmatrix}$"
   ]
  },
  {
   "cell_type": "code",
   "execution_count": 4,
   "metadata": {},
   "outputs": [],
   "source": [
    "\n",
    "def param_gates(euler_theta, euler_phi, euler_lambda):\n",
    "    \n",
    "    u3 = np.array([\n",
    "        [np.cos(euler_theta/2), -np.e**(euler_lambda*1j) * np.sin(euler_theta/2)],\n",
    "        [np.e**(euler_phi*1j) * np.sin(euler_theta/2), np.e**(euler_phi*1j + euler_lambda*1j) * np.cos(euler_theta/2)]\n",
    "    ])\n",
    "    \n",
    "    return u3"
   ]
  },
  {
   "cell_type": "markdown",
   "metadata": {},
   "source": [
    "Dictionary for defined unitary gates"
   ]
  },
  {
   "cell_type": "code",
   "execution_count": 28,
   "metadata": {},
   "outputs": [],
   "source": [
    "unitary_gates = {\"x\": x, \"z\": z, \"h\": h, \"cx\": cx, \"sw\": sw}"
   ]
  },
  {
   "cell_type": "markdown",
   "metadata": {},
   "source": [
    "### Computational basis vector states"
   ]
  },
  {
   "cell_type": "code",
   "execution_count": 29,
   "metadata": {},
   "outputs": [],
   "source": [
    "# computational basis\n",
    "basis_states = [ [1, 0], [0, 1] ]\n",
    "\n",
    "# classical bit states as strings\n",
    "cbits = [\"0\", \"1\"]"
   ]
  },
  {
   "cell_type": "markdown",
   "metadata": {},
   "source": [
    "### Quantum Circuit Simulator parent class\n",
    "\n",
    "Contains methods required for simulation."
   ]
  },
  {
   "cell_type": "code",
   "execution_count": 72,
   "metadata": {},
   "outputs": [],
   "source": [
    "class QCSimulator:\n",
    "    def __init__(self, qubits_num, shots, params, qcirc):\n",
    "        \"\"\"Takes a quantum circuit program, qcirc. Creates initial state vector\n",
    "        of qubits_num qubits.\n",
    "        \"\"\"\n",
    "        \n",
    "        # initializer\n",
    "        self.qubits_num = qubits_num\n",
    "        self.shots_num = shots\n",
    "        self.params = params\n",
    "        \n",
    "        # create initial state vector of qubits_num qubits [1, 0, ... ]\n",
    "        self.init_state = self.get_ground_state()\n",
    "        print(\"Initial state:\\t\", self.init_state, \"\\n\")\n",
    "        \n",
    "        # get number of gate operations to compute\n",
    "        operations_num = len(qcirc)\n",
    "        \n",
    "        # circuit handler, read circuit, calculate matrix operator\n",
    "        # multiply the state with the operator and return final state.\n",
    "        self.final_state = self.circuit_handler(operations_num, qcirc)\n",
    "        print(\"Final State vector:\\n%s\\n\"%(self.final_state))\n",
    "        \n",
    "        # make measurements, get counts\n",
    "        self.counts = self.get_counts(self.final_state)\n",
    "        \n",
    "        # Print out statistics results in a nice form\n",
    "        self.print_counts(self.counts)\n",
    "        \n",
    "    \n",
    "    def get_ground_state(self):\n",
    "        \"\"\"Initialize a quantum state.\n",
    "        Returns a vector of size 2**qubits_num with all zeroes except\n",
    "        the first element which is 1.\"\"\"\n",
    "        \n",
    "        ground_state_base = np.array([1, 0])\n",
    "        ground_state_qnum = ground_state_base\n",
    "        for i in range(self.qubits_num - 1):\n",
    "            ground_state_qnum = np.kron(ground_state_base, ground_state_qnum)\n",
    "            \n",
    "        return ground_state_qnum\n",
    "    \n",
    "    \n",
    "    def print_counts(self, counts):\n",
    "        \"\"\"Print out nicely looking count results\"\"\"\n",
    "        \n",
    "        print(\"\\nMeasurement results:\\n{\")\n",
    "        for i in counts.keys():\n",
    "            print('\\t\"{}\":\\t{},'.format(str(i), counts[i]))\n",
    "        print(\"}\\n\")\n",
    "    \n",
    "    \n",
    "    def get_operator(self, gate_unitary, qubits_target):\n",
    "        \"\"\"Returns a unitary operator of size 2**n x 2**n for a given\n",
    "        quantum gate and target number of qubits.\n",
    "        Resizing the gate's martix to the dimension of the state vector\"\"\"\n",
    "        \n",
    "        # if matrix shape ==  state shape, return matrix and exit\n",
    "        if np.shape(gate_unitary) == (2**self.qubits_num, 2**self.qubits_num):\n",
    "                return gate_unitary\n",
    "        elif np.shape(gate_unitary) > (2**self.qubits_num, 2**self.qubits_num):\n",
    "                return gate_unitary\n",
    "        \n",
    "        # define 2x2 identity matrix\n",
    "        I = np.identity(2)\n",
    "        \n",
    "        # a list of the order of kronecker product operations\n",
    "        kron_order = []\n",
    "        \n",
    "        # number of iterations for adding gates into list\n",
    "        ops = 1 + ( (2**self.qubits_num)/2 / np.shape(gate_unitary)[0])\n",
    "        for k in range(int(ops)):\n",
    "            if k == qubits_target:\n",
    "                kron_order.append(gate_unitary)\n",
    "            else:\n",
    "                kron_order.append(I)\n",
    "                \n",
    "        gate_unitary_new = kron_order[0]\n",
    "                \n",
    "        for i in range(self.qubits_num - 1):\n",
    "            # check if operator size/shape is equal to 2**n x 2**n, where n = qubits_num\n",
    "            if np.shape(gate_unitary_new) == (2**self.qubits_num, 2**self.qubits_num):\n",
    "                return gate_unitary_new\n",
    "            \n",
    "            gate_unitary_new = np.kron(gate_unitary_new, kron_order[i+1])\n",
    "            \n",
    "        return gate_unitary_new\n",
    "    \n",
    "    \n",
    "    def circuit_handler(self, operations_num, qcirc):\n",
    "        \"\"\"Handles quantum circuit input, managing operations with gates, operators\n",
    "        and state vectors. Returns final state vector.\"\"\"\n",
    "        \n",
    "        final_state = self.init_state\n",
    "        \n",
    "        for i in range(operations_num):\n",
    "            gate_name = qcirc[i][\"gate\"]\n",
    "            param_values = qcirc[i][\"params\"] if \"params\" in qcirc[i].keys() else {}\n",
    "            target = qcirc[i][\"target\"]\n",
    "            if len(target) == 1:\n",
    "                target = target[0]\n",
    "            elif len(target) == 2:\n",
    "                target = target[1]\n",
    "            \n",
    "            if gate_name in unitary_gates.keys():\n",
    "                gate = unitary_gates[gate_name]\n",
    "            elif gate_name not in unitary_gates.keys():\n",
    "                global_1 = {param_values[\"theta\"]: self.params[0]}\n",
    "                global_2 = {param_values[\"phi\"]: self.params[1]}\n",
    "                gate = param_gates(global_1[\"global_1\"], global_2[\"global_2\"], param_values[\"lambda\"])\n",
    "            else:\n",
    "                print(\"\\n[-] Error! Gate not yet defined\\n\")\n",
    "                break\n",
    "            \n",
    "            # resize gates, find matrix operator if necessary\n",
    "            gate = self.get_operator(gate, target)\n",
    "            # print(\"%s-gate\\n\\b%s\"%(gate_name.upper(), gate))\n",
    "            \n",
    "            # matrix vector multiplicaion operation\n",
    "            try:\n",
    "                final_state = np.dot(gate, final_state)\n",
    "            except ValueError:\n",
    "                print(\"\\n[-] Error: Unitary gate shape: {} not aligned with state vector shape: {}\\n\".format(np.shape(gate), np.shape(final_state)))\n",
    "                break\n",
    "                \n",
    "            print(\"Final state --> [%s-gate]:\\n%s\\n\"%(gate_name.upper(), final_state))\n",
    "            \n",
    "        return final_state      \n",
    "    \n",
    "    \n",
    "    def get_counts(self, state_vector):\n",
    "        \"\"\"Execute measurements in a loop shots_num times and returns a dictionary object\n",
    "        with statistics in the form:\n",
    "        {\n",
    "            element_index: number_of_occurrences,\n",
    "            ...\n",
    "        }\n",
    "        only from elements which occurred - returned from measrements.\"\"\"\n",
    "        \n",
    "        # find list of all possible quantum states\n",
    "        qstates = basis_states\n",
    "        cstates = cbits\n",
    "        for i in range(self.qubits_num - 1):\n",
    "            qstates = [ list(np.kron(j, k)) for j in basis_states for k in qstates ]\n",
    "            cstates = [ j + k for j in cbits for k in cstates ]\n",
    "        \n",
    "        # fill in probabilities of each quantum state\n",
    "        prob_states = []\n",
    "        for i in range( len(qstates) ):\n",
    "            p = np.dot( qstates[i], state_vector )\n",
    "            pp = np.dot(p, np.conj(p)) \n",
    "            prob_states.append( pp.real )\n",
    "\n",
    "        print(\"Weighted probabilitites:\\n{}\".format(prob_states))\n",
    "        \n",
    "        # loop measurement using weighted random technique\n",
    "        # dictionary to hold statistics of states and their counts\n",
    "        counts = {}\n",
    "        for i in range( self.shots_num ):\n",
    "            collapsed_state = choice( cstates, 1, p=prob_states )\n",
    "            if collapsed_state[0] in counts:\n",
    "                counts[collapsed_state[0]] += 1\n",
    "            elif not collapsed_state[0] in counts:\n",
    "                counts[collapsed_state[0]] = 1\n",
    "        \n",
    "        print(\"beofre ocunat\", counts)\n",
    "        return counts"
   ]
  },
  {
   "cell_type": "markdown",
   "metadata": {},
   "source": [
    "#### Example class for running variational quantum algorithms"
   ]
  },
  {
   "cell_type": "code",
   "execution_count": 73,
   "metadata": {},
   "outputs": [
    {
     "name": "stdout",
     "output_type": "stream",
     "text": [
      "Initial state:\t [1 0 0 0] \n",
      "\n",
      "Final state --> [H-gate]:\n",
      "[0.70710678 0.         0.70710678 0.        ]\n",
      "\n",
      "Final state --> [H-gate]:\n",
      "[0.5 0.5 0.5 0.5]\n",
      "\n",
      "Final State vector:\n",
      "[0.5 0.5 0.5 0.5]\n",
      "\n",
      "Weighted probabilitites:\n",
      "[0.2499999999999999, 0.2499999999999999, 0.2499999999999999, 0.2499999999999999]\n",
      "beofre ocunat {'10': 270, '00': 270, '11': 242, '01': 242}\n",
      "\n",
      "Measurement results:\n",
      "{\n",
      "\t\"10\":\t270,\n",
      "\t\"00\":\t270,\n",
      "\t\"11\":\t242,\n",
      "\t\"01\":\t242,\n",
      "}\n",
      "\n",
      "[0.22027533 0.20863466 0.51316198 0.05792803]\n",
      "cost: 0.553667712711295\n"
     ]
    },
    {
     "data": {
      "text/plain": [
       "<__main__.VQE at 0x7fb394642a30>"
      ]
     },
     "execution_count": 73,
     "metadata": {},
     "output_type": "execute_result"
    }
   ],
   "source": [
    "class VQE(QCSimulator):\n",
    "    def __init__(self, N, shots_num, params, circuit):\n",
    "        QCSimulator.__init__(self, N, shots, params, circuit)\n",
    "        \n",
    "        # counts = self.counts\n",
    "        \n",
    "        # create a random probability vector\n",
    "        np.random.seed(999999)\n",
    "        self.target_state = np.random.rand(2**N)\n",
    "        # normalize the vector to get a valid probability vector\n",
    "        self.target_state /= sum(self.target_state)\n",
    "        print(self.target_state)\n",
    "        \n",
    "        # ...calculate cost here....\n",
    "        print(\"cost:\", self.objective_function())\n",
    "        \n",
    "        # minimize\n",
    "        # minimum = minimize(cost, params, method=\"Powell\", tol=1e-6)\n",
    "        \n",
    "    \n",
    "    def objective_function(self):\n",
    "        \"\"\"An objective function that takes in as input a list of the variational form's parameters.\n",
    "        Returns the cost associated with those parameters\"\"\"\n",
    "        \n",
    "        self.final_state = [i / 1024 for i in self.counts.values()]\n",
    "        cost = sum( [np.abs(self.final_state[i] -  self.target_state[i]) for i in range(2**N)] )\n",
    "        return cost\n",
    "\n",
    "# Prepare VQE circuit here\n",
    "N = 2\n",
    "shots = 1024\n",
    "params = np.array([np.pi, np.pi/2])\n",
    "circuit = [\n",
    "    {\"gate\": \"h\", \"target\": [0]},\n",
    "    {\"gate\": \"h\", \"target\": [1]},\n",
    "    #{\"gate\": \"cx\", \"target\": [0, 1]},\n",
    "    #{\"gate\": \"u3\", \"params\": {\"theta\": \"global_1\", \"phi\": \"global_2\", \"lambda\": -np.pi}, \"target\": [0]},\n",
    "    #{\"gate\": \"u3\", \"params\": {\"theta\": \"global_1\", \"phi\": \"global_2\", \"lambda\": -np.pi}, \"target\": [1]},\n",
    "    #{\"gate\": \"cx\", \"target\": [1, 0]},\n",
    "]\n",
    "# Run VQE algorithm via the quantum circuit simulator\n",
    "VQE(N, shots, params, circuit)"
   ]
  }
 ],
 "metadata": {
  "kernelspec": {
   "display_name": "Python 3",
   "language": "python",
   "name": "python3"
  },
  "language_info": {
   "codemirror_mode": {
    "name": "ipython",
    "version": 3
   },
   "file_extension": ".py",
   "mimetype": "text/x-python",
   "name": "python",
   "nbconvert_exporter": "python",
   "pygments_lexer": "ipython3",
   "version": "3.8.5"
  }
 },
 "nbformat": 4,
 "nbformat_minor": 4
}
