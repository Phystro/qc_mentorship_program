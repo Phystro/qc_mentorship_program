{
 "cells": [
  {
   "cell_type": "markdown",
   "metadata": {},
   "source": [
    "# Quantum Circuit Simulator"
   ]
  },
  {
   "cell_type": "code",
   "execution_count": 3,
   "metadata": {},
   "outputs": [],
   "source": [
    "import numpy as np"
   ]
  },
  {
   "cell_type": "markdown",
   "metadata": {},
   "source": [
    "### Define unitary matrices"
   ]
  },
  {
   "cell_type": "code",
   "execution_count": 4,
   "metadata": {},
   "outputs": [],
   "source": [
    "isqrt2 = 1/np.sqrt(2) # inverse of the square root of 2\n",
    "\n",
    "x = np.array([\n",
    "    [0, 1],\n",
    "    [1, 0]\n",
    "])\n",
    "\n",
    "h = np.array([\n",
    "    [isqrt2, isqrt2],\n",
    "    [isqrt2, -isqrt2],\n",
    "])\n",
    "\n",
    "cx = np.array([\n",
    "    [1, 0, 0, 0],\n",
    "    [0, 1, 0, 0],\n",
    "    [0, 0, 0, 1],\n",
    "    [0, 0, 1, 0],\n",
    "])\n",
    "\n",
    "sw = np.array([\n",
    "    [1, 0, 0, 0],\n",
    "    [0, 0, 1, 0],\n",
    "    [0, 1, 0, 0],\n",
    "    [0, 0, 0, 1],\n",
    "])"
   ]
  },
  {
   "cell_type": "markdown",
   "metadata": {},
   "source": [
    "### Quantum Circuit Simulator class with methods required for simulation"
   ]
  },
  {
   "cell_type": "code",
   "execution_count": 5,
   "metadata": {},
   "outputs": [
    {
     "name": "stdout",
     "output_type": "stream",
     "text": [
      "[1 0 0 0]\n",
      "2\n",
      "[0, 1]\n"
     ]
    },
    {
     "data": {
      "text/plain": [
       "<__main__.QCSimulator at 0x7f44ddd7ef10>"
      ]
     },
     "execution_count": 5,
     "metadata": {},
     "output_type": "execute_result"
    }
   ],
   "source": [
    "class QCSimulator:\n",
    "    def __init__(self, qubits_num, qcirc):\n",
    "        \"\"\"\n",
    "        Takes a quantum circuit program, qcirc. Creates initial state vector\n",
    "        of qubits_num qubits.\n",
    "        \"\"\"\n",
    "        \n",
    "        # create initial state vector of qubits_num qubits\n",
    "        init_state = self.get_ground_state(qubits_num)\n",
    "        \n",
    "        # number of gate operations to compute\n",
    "        operations_num = len(qcirc)\n",
    "        \n",
    "        # circuit handler, read circuit, calculate matrix operator\n",
    "        # multiply the state with the operator and return final state.\n",
    "        self.circuit_handler(qubits_num, operations_num, init_state, qcirc)\n",
    "        \n",
    "        \n",
    "        \n",
    "        print(init_state)\n",
    "        print(operations_num)\n",
    "        print(qcirc[1][\"target\"])\n",
    "        \n",
    "    \n",
    "    def get_ground_state(self, qubits_num):\n",
    "        \"\"\"Returns a vector of size 2**qubits_num with all zeroes except\n",
    "        the first element which is 1.\"\"\"\n",
    "        ground_state_base = np.array([1, 0])\n",
    "        ground_state_qnum = ground_state_base\n",
    "        for i in range(qubits_num - 1):\n",
    "            ground_state_qnum = np.kron(ground_state_base, ground_state_qnum)\n",
    "            \n",
    "        return ground_state_qnum\n",
    "    \n",
    "    \n",
    "    def get_operator(self, qubits_num, gate_unitary, qubits_target=1):\n",
    "        \"\"\"Returns a unitary operator of size 2**n x 2**n for a given\n",
    "        quantum gate and target number of qubits.\n",
    "        Resizing the gate's martix to the dimension of the state vector\"\"\"\n",
    "        # define 2x2 identity matrix\n",
    "        I = np.identity(2)\n",
    "        gate_unitary_post = gate_unitary\n",
    "        for i in range(qubits_num - 1):\n",
    "            gate_unitary_post = np.kron(I, gate_unitary_post)\n",
    "        \n",
    "        return gate_unitary_post\n",
    "    \n",
    "    \n",
    "    def circuit_handler(self, qubits_num, operations_num, init_state, qcirc):\n",
    "        \"\"\"Handles quantum circuit input, managing operations with gates, operators\n",
    "        and state vectors.\"\"\"\n",
    "        # calculate matrix operators\n",
    "        # gate_unitary = self.get_operator(qubits_num, gate_unitary, target_qubits)\n",
    "        pass\n",
    "        \n",
    "    \n",
    "    def measure(self):\n",
    "        \"\"\"Chooses element from state vector using weighted random and\n",
    "        returns it's index.\"\"\"\n",
    "        pass\n",
    "    \n",
    "    \n",
    "    def get_counts(self):\n",
    "        \"\"\"Execute measurements in a loop shots_num times and returns object\n",
    "        with statistics in the form:\n",
    "        {\n",
    "            element_index: number_of_occurrences,\n",
    "            ...\n",
    "        }\n",
    "        only from elements which occurred - returned from measrements.\"\"\"\n",
    "        pass\n",
    "    \n",
    "    \n",
    "# qcs = QCSimulator\n",
    "# a = qcs.get_ground_state(1)\n",
    "# b = qcs.get_operator(X, 2)\n",
    "# print(a)\n",
    "# print(b)\n",
    "\n",
    "N = 2 # number of qubits for the state vector; 2-qubits state vector\n",
    "\n",
    "# quantum circuit/program\n",
    "circ = [\n",
    "    {\"gate\": \"h\", \"target\": [0]},\n",
    "    {\"gate\": \"cx\", \"target\": [0, 1]},\n",
    "]\n",
    "\n",
    "QCSimulator(N, circ)"
   ]
  }
 ],
 "metadata": {
  "kernelspec": {
   "display_name": "Python 3",
   "language": "python",
   "name": "python3"
  },
  "language_info": {
   "codemirror_mode": {
    "name": "ipython",
    "version": 3
   },
   "file_extension": ".py",
   "mimetype": "text/x-python",
   "name": "python",
   "nbconvert_exporter": "python",
   "pygments_lexer": "ipython3",
   "version": "3.8.5"
  }
 },
 "nbformat": 4,
 "nbformat_minor": 4
}
